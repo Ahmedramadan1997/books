{
 "cells": [
  {
   "cell_type": "code",
   "execution_count": null,
   "metadata": {},
   "outputs": [],
   "source": [
    "## Task 3\n",
    "import requests\n",
    "from bs4 import BeautifulSoup\n",
    "\n",
    "star_to_int = {\"zero\":0, \"one\":1, \"two\":2, \"three\":3, \"four\":4, \"five\":5}\n",
    "base_url = \"https://books.toscrape.com/catalogue/\"\n",
    "\n",
    "page_link = f\"https://books.toscrape.com/catalogue/page-1.html\"\n",
    "res = requests.get(page_link)\n",
    "soup = BeautifulSoup(res.text, \"html.parser\")\n",
    "pages = int(soup.find(\"li\", attrs={\"class\":\"current\"}).text.replace(\"\\n\", \" \").strip().split()[-1])\n",
    "\n",
    "\n",
    "with open(\"books.csv\", mode='w', encoding='utf-8') as fd:\n",
    "    fd.write(\"title book,price,is avalible,rating,link\\n\") # header\n",
    "    for page in range(1, pages+1): # pageination\n",
    "        print(f\"collecting data of page {page}\")\n",
    "        page_link = f\"https://books.toscrape.com/catalogue/page-{page}.html\"\n",
    "        res = requests.get(page_link)\n",
    "        soup = BeautifulSoup(res.text, \"html.parser\")\n",
    "        ol_tag = soup.find(\"ol\", attrs={\"class\":\"row\"})\n",
    "        books_tag = ol_tag.find_all(\"li\")\n",
    "        for i in range(len(books_tag)):\n",
    "            title_book = books_tag[i].find(\"h3\").find(\"a\").attrs['title'] # soln 1\n",
    "            price_tag = books_tag[i].find(\"div\", attrs={\"class\":\"product_price\"}).find(\"p\", attrs={\"class\":\"price_color\"})\n",
    "            price = float(price_tag.text[2:])\n",
    "            stock_tag = books_tag[i].find(\"div\", attrs={\"class\":\"product_price\"}).find(\"p\", attrs={\"class\":\"instock availability\"})\n",
    "            stock_avp = stock_tag.text.replace(\"\\n\", \" \").strip().lower()\n",
    "            stock_avaliblity = False\n",
    "            if stock_avp == 'in stock':\n",
    "                stock_avaliblity = True\n",
    "            rate_title = books_tag[i].find(\"p\", attrs={\"class\":\"star-rating\"}).attrs[\"class\"][-1].lower()\n",
    "        #     print(rate_title)\n",
    "            rate = star_to_int[rate_title]\n",
    "            url = base_url + books_tag[i].find_all(\"a\")[-1].attrs['href']\n",
    "#             res_book = requests.get(url)\n",
    "#             .. more details\n",
    "            fd.write(f\"\\\"{title_book}\\\",{price},{stock_avaliblity},{rate},{url}\\n\")"
   ]
  }
 ],
 "metadata": {
  "language_info": {
   "name": "python"
  }
 },
 "nbformat": 4,
 "nbformat_minor": 2
}
